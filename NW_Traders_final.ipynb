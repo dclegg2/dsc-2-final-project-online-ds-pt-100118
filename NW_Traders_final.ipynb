{
 "cells": [
  {
   "cell_type": "markdown",
   "metadata": {},
   "source": [
    "## Hypothesis Testing with the Northwind Traders Database and SQL"
   ]
  },
  {
   "cell_type": "markdown",
   "metadata": {},
   "source": [
    "Let's start by importing the necessary libraries for this project."
   ]
  },
  {
   "cell_type": "code",
   "execution_count": 1,
   "metadata": {},
   "outputs": [],
   "source": [
    "import sqlalchemy\n",
    "from sqlalchemy import create_engine\n",
    "from sqlalchemy.orm import Session, sessionmaker\n",
    "from sqlalchemy import inspect\n",
    "\n",
    "import pandas as pd\n",
    "import numpy as np\n",
    "\n",
    "import matplotlib.pyplot as plt\n",
    "%matplotlib inline\n",
    "import seaborn as sns\n",
    "plt.style.use('fivethirtyeight')\n",
    "\n",
    "import scipy.stats as stats\n",
    "\n",
    "import statsmodels.api as sm\n",
    "from statsmodels.formula.api import ols\n",
    "\n",
    "from statsmodels.stats.multicomp import pairwise_tukeyhsd\n",
    "from statsmodels.stats.multicomp import MultiComparison"
   ]
  },
  {
   "cell_type": "markdown",
   "metadata": {},
   "source": [
    "Next, we'll use SQLAlchemy to create an engine.  This will be our gateway to accessing the database and querying data via SQL select statements.  We'll also use the inspector object to see what table names are contained in the database."
   ]
  },
  {
   "cell_type": "code",
   "execution_count": 2,
   "metadata": {},
   "outputs": [
    {
     "name": "stdout",
     "output_type": "stream",
     "text": [
      "2019-03-26 20:56:37,996 INFO sqlalchemy.engine.base.Engine SELECT CAST('test plain returns' AS VARCHAR(60)) AS anon_1\n",
      "2019-03-26 20:56:37,998 INFO sqlalchemy.engine.base.Engine ()\n",
      "2019-03-26 20:56:38,002 INFO sqlalchemy.engine.base.Engine SELECT CAST('test unicode returns' AS VARCHAR(60)) AS anon_1\n",
      "2019-03-26 20:56:38,004 INFO sqlalchemy.engine.base.Engine ()\n",
      "2019-03-26 20:56:38,007 INFO sqlalchemy.engine.base.Engine SELECT name FROM sqlite_master WHERE type='table' ORDER BY name\n",
      "2019-03-26 20:56:38,009 INFO sqlalchemy.engine.base.Engine ()\n",
      "['Category', 'Customer', 'CustomerCustomerDemo', 'CustomerDemographic', 'Employee', 'EmployeeTerritory', 'Order', 'OrderDetail', 'Product', 'Region', 'Shipper', 'Supplier', 'Territory']\n"
     ]
    }
   ],
   "source": [
    "engine = create_engine('sqlite:///Northwind_small.sqlite', echo=True)\n",
    "Session = sessionmaker(bind=engine)\n",
    "session = Session()\n",
    "inspector = inspect(engine)\n",
    "print(inspector.get_table_names())"
   ]
  },
  {
   "cell_type": "markdown",
   "metadata": {},
   "source": [
    "We are successfully connected.  The output using inspector is not very user-friendly, so we'll use the function below to explore the individual tables going forward."
   ]
  },
  {
   "cell_type": "code",
   "execution_count": 3,
   "metadata": {},
   "outputs": [],
   "source": [
    "def get_columns_info(col_name):\n",
    "    cols_list = inspector.get_columns(col_name)\n",
    "    \n",
    "    print(\"Table Name: {}\".format(col_name))\n",
    "    print(\"\")\n",
    "    \n",
    "    for column in cols_list:\n",
    "        print(\"Name: {} \\t Type: {}\".format(column['name'], column['type']))"
   ]
  },
  {
   "cell_type": "markdown",
   "metadata": {},
   "source": [
    "## Objective:\n",
    "### - Using the Northwind database, answer 4 questions using hypothesis testing to generate analytical insight that can be used by the company.  The first question is provided below.\n",
    "### Q1: **_Do discounts have a statistically significant effect on the number of products customers order? If so, at what level(s) of discount?_**\n",
    "### The company's ERD (Entity Relationship Diagram) is also provided:\n",
    "<img src='Northwind_ERD.png'>"
   ]
  },
  {
   "cell_type": "markdown",
   "metadata": {},
   "source": [
    "## My basic thought process at the outset:\n",
    "\n",
    "### Some broader questions presented themselves first, centered around the key business components of the company:\n",
    "- Products <br>\n",
    "   -- What do we sell?\n",
    "- Suppliers    \n",
    "    -- Who are our suppliers?  \n",
    "    -- Where are they located?  \n",
    "    -- Why do we buy from them?\n",
    "- Customers <br>\n",
    "    -- Who are our customers?  \n",
    "    -- Where are they located?  \n",
    "    -- What do we sell most successfully to them?\n",
    "- Workforce <br>\n",
    "    -- Who are our employees?  \n",
    "    -- Where are they located?  \n",
    "    -- Which are the most successful and why?\n",
    "    \n"
   ]
  },
  {
   "cell_type": "markdown",
   "metadata": {},
   "source": [
    "# Database EDA\n",
    "\n",
    "- While I won't delve into all the exploratory analysis conducted, the code below is an example of the process I used, for each table within the database, to better acquaint myself with the data points we can access.  I usually started by selecting all columns from a particular table and previewing it.  After viewing the complete table, questions more limited in scope generally followed (with several more specific SQL queries for each table)."
   ]
  },
  {
   "cell_type": "code",
   "execution_count": 4,
   "metadata": {},
   "outputs": [
    {
     "name": "stdout",
     "output_type": "stream",
     "text": [
      "2019-03-26 20:56:38,043 INFO sqlalchemy.engine.base.Engine PRAGMA table_info(\"Product\")\n",
      "2019-03-26 20:56:38,048 INFO sqlalchemy.engine.base.Engine ()\n",
      "Table Name: Product\n",
      "\n",
      "Name: Id \t Type: INTEGER\n",
      "Name: ProductName \t Type: VARCHAR(8000)\n",
      "Name: SupplierId \t Type: INTEGER\n",
      "Name: CategoryId \t Type: INTEGER\n",
      "Name: QuantityPerUnit \t Type: VARCHAR(8000)\n",
      "Name: UnitPrice \t Type: DECIMAL\n",
      "Name: UnitsInStock \t Type: INTEGER\n",
      "Name: UnitsOnOrder \t Type: INTEGER\n",
      "Name: ReorderLevel \t Type: INTEGER\n",
      "Name: Discontinued \t Type: INTEGER\n"
     ]
    }
   ],
   "source": [
    "get_columns_info('Product')"
   ]
  },
  {
   "cell_type": "code",
   "execution_count": 5,
   "metadata": {},
   "outputs": [
    {
     "name": "stdout",
     "output_type": "stream",
     "text": [
      "2019-03-26 20:56:38,077 INFO sqlalchemy.engine.base.Engine SELECT * FROM Product\n",
      "2019-03-26 20:56:38,079 INFO sqlalchemy.engine.base.Engine ()\n"
     ]
    },
    {
     "data": {
      "text/html": [
       "<div>\n",
       "<style scoped>\n",
       "    .dataframe tbody tr th:only-of-type {\n",
       "        vertical-align: middle;\n",
       "    }\n",
       "\n",
       "    .dataframe tbody tr th {\n",
       "        vertical-align: top;\n",
       "    }\n",
       "\n",
       "    .dataframe thead th {\n",
       "        text-align: right;\n",
       "    }\n",
       "</style>\n",
       "<table border=\"1\" class=\"dataframe\">\n",
       "  <thead>\n",
       "    <tr style=\"text-align: right;\">\n",
       "      <th></th>\n",
       "      <th>Id</th>\n",
       "      <th>ProductName</th>\n",
       "      <th>SupplierId</th>\n",
       "      <th>CategoryId</th>\n",
       "      <th>QuantityPerUnit</th>\n",
       "      <th>UnitPrice</th>\n",
       "      <th>UnitsInStock</th>\n",
       "      <th>UnitsOnOrder</th>\n",
       "      <th>ReorderLevel</th>\n",
       "      <th>Discontinued</th>\n",
       "    </tr>\n",
       "  </thead>\n",
       "  <tbody>\n",
       "    <tr>\n",
       "      <th>0</th>\n",
       "      <td>1</td>\n",
       "      <td>Chai</td>\n",
       "      <td>1</td>\n",
       "      <td>1</td>\n",
       "      <td>10 boxes x 20 bags</td>\n",
       "      <td>18.00</td>\n",
       "      <td>39</td>\n",
       "      <td>0</td>\n",
       "      <td>10</td>\n",
       "      <td>0</td>\n",
       "    </tr>\n",
       "    <tr>\n",
       "      <th>1</th>\n",
       "      <td>2</td>\n",
       "      <td>Chang</td>\n",
       "      <td>1</td>\n",
       "      <td>1</td>\n",
       "      <td>24 - 12 oz bottles</td>\n",
       "      <td>19.00</td>\n",
       "      <td>17</td>\n",
       "      <td>40</td>\n",
       "      <td>25</td>\n",
       "      <td>0</td>\n",
       "    </tr>\n",
       "    <tr>\n",
       "      <th>2</th>\n",
       "      <td>3</td>\n",
       "      <td>Aniseed Syrup</td>\n",
       "      <td>1</td>\n",
       "      <td>2</td>\n",
       "      <td>12 - 550 ml bottles</td>\n",
       "      <td>10.00</td>\n",
       "      <td>13</td>\n",
       "      <td>70</td>\n",
       "      <td>25</td>\n",
       "      <td>0</td>\n",
       "    </tr>\n",
       "    <tr>\n",
       "      <th>3</th>\n",
       "      <td>4</td>\n",
       "      <td>Chef Anton's Cajun Seasoning</td>\n",
       "      <td>2</td>\n",
       "      <td>2</td>\n",
       "      <td>48 - 6 oz jars</td>\n",
       "      <td>22.00</td>\n",
       "      <td>53</td>\n",
       "      <td>0</td>\n",
       "      <td>0</td>\n",
       "      <td>0</td>\n",
       "    </tr>\n",
       "    <tr>\n",
       "      <th>4</th>\n",
       "      <td>5</td>\n",
       "      <td>Chef Anton's Gumbo Mix</td>\n",
       "      <td>2</td>\n",
       "      <td>2</td>\n",
       "      <td>36 boxes</td>\n",
       "      <td>21.35</td>\n",
       "      <td>0</td>\n",
       "      <td>0</td>\n",
       "      <td>0</td>\n",
       "      <td>1</td>\n",
       "    </tr>\n",
       "  </tbody>\n",
       "</table>\n",
       "</div>"
      ],
      "text/plain": [
       "   Id                   ProductName  SupplierId  CategoryId  \\\n",
       "0   1                          Chai           1           1   \n",
       "1   2                         Chang           1           1   \n",
       "2   3                 Aniseed Syrup           1           2   \n",
       "3   4  Chef Anton's Cajun Seasoning           2           2   \n",
       "4   5        Chef Anton's Gumbo Mix           2           2   \n",
       "\n",
       "       QuantityPerUnit  UnitPrice  UnitsInStock  UnitsOnOrder  ReorderLevel  \\\n",
       "0   10 boxes x 20 bags      18.00            39             0            10   \n",
       "1   24 - 12 oz bottles      19.00            17            40            25   \n",
       "2  12 - 550 ml bottles      10.00            13            70            25   \n",
       "3       48 - 6 oz jars      22.00            53             0             0   \n",
       "4             36 boxes      21.35             0             0             0   \n",
       "\n",
       "   Discontinued  \n",
       "0             0  \n",
       "1             0  \n",
       "2             0  \n",
       "3             0  \n",
       "4             1  "
      ]
     },
     "execution_count": 5,
     "metadata": {},
     "output_type": "execute_result"
    }
   ],
   "source": [
    "prod_df = pd.read_sql_query(\"SELECT * FROM Product\", engine)\n",
    "prod_df.head()"
   ]
  },
  {
   "cell_type": "markdown",
   "metadata": {},
   "source": [
    ">Example: *I see that Chef Anton's Gumbo Mix is \"Discontinued\".*  This led me to ask:\n",
    ">- How many of our products are discontinued? \n",
    ">- What categories are they in? \n",
    ">- What commonalities do they share?  \n",
    ">- What are their respective price points?"
   ]
  },
  {
   "cell_type": "code",
   "execution_count": 6,
   "metadata": {
    "scrolled": false
   },
   "outputs": [
    {
     "name": "stdout",
     "output_type": "stream",
     "text": [
      "2019-03-26 20:56:38,162 INFO sqlalchemy.engine.base.Engine SELECT ProductName, SupplierId, CategoryId, UnitPrice FROM Product\n",
      "                    WHERE Discontinued = 1\n",
      "                    ORDER BY UnitPrice DESC\n",
      "2019-03-26 20:56:38,165 INFO sqlalchemy.engine.base.Engine ()\n"
     ]
    },
    {
     "data": {
      "text/html": [
       "<div>\n",
       "<style scoped>\n",
       "    .dataframe tbody tr th:only-of-type {\n",
       "        vertical-align: middle;\n",
       "    }\n",
       "\n",
       "    .dataframe tbody tr th {\n",
       "        vertical-align: top;\n",
       "    }\n",
       "\n",
       "    .dataframe thead th {\n",
       "        text-align: right;\n",
       "    }\n",
       "</style>\n",
       "<table border=\"1\" class=\"dataframe\">\n",
       "  <thead>\n",
       "    <tr style=\"text-align: right;\">\n",
       "      <th></th>\n",
       "      <th>ProductName</th>\n",
       "      <th>SupplierId</th>\n",
       "      <th>CategoryId</th>\n",
       "      <th>UnitPrice</th>\n",
       "    </tr>\n",
       "  </thead>\n",
       "  <tbody>\n",
       "    <tr>\n",
       "      <th>0</th>\n",
       "      <td>Thüringer Rostbratwurst</td>\n",
       "      <td>12</td>\n",
       "      <td>6</td>\n",
       "      <td>123.79</td>\n",
       "    </tr>\n",
       "    <tr>\n",
       "      <th>1</th>\n",
       "      <td>Mishi Kobe Niku</td>\n",
       "      <td>4</td>\n",
       "      <td>6</td>\n",
       "      <td>97.00</td>\n",
       "    </tr>\n",
       "    <tr>\n",
       "      <th>2</th>\n",
       "      <td>Rössle Sauerkraut</td>\n",
       "      <td>12</td>\n",
       "      <td>7</td>\n",
       "      <td>45.60</td>\n",
       "    </tr>\n",
       "    <tr>\n",
       "      <th>3</th>\n",
       "      <td>Alice Mutton</td>\n",
       "      <td>7</td>\n",
       "      <td>6</td>\n",
       "      <td>39.00</td>\n",
       "    </tr>\n",
       "    <tr>\n",
       "      <th>4</th>\n",
       "      <td>Perth Pasties</td>\n",
       "      <td>24</td>\n",
       "      <td>6</td>\n",
       "      <td>32.80</td>\n",
       "    </tr>\n",
       "    <tr>\n",
       "      <th>5</th>\n",
       "      <td>Chef Anton's Gumbo Mix</td>\n",
       "      <td>2</td>\n",
       "      <td>2</td>\n",
       "      <td>21.35</td>\n",
       "    </tr>\n",
       "    <tr>\n",
       "      <th>6</th>\n",
       "      <td>Singaporean Hokkien Fried Mee</td>\n",
       "      <td>20</td>\n",
       "      <td>5</td>\n",
       "      <td>14.00</td>\n",
       "    </tr>\n",
       "    <tr>\n",
       "      <th>7</th>\n",
       "      <td>Guaraná Fantástica</td>\n",
       "      <td>10</td>\n",
       "      <td>1</td>\n",
       "      <td>4.50</td>\n",
       "    </tr>\n",
       "  </tbody>\n",
       "</table>\n",
       "</div>"
      ],
      "text/plain": [
       "                     ProductName  SupplierId  CategoryId  UnitPrice\n",
       "0        Thüringer Rostbratwurst          12           6     123.79\n",
       "1                Mishi Kobe Niku           4           6      97.00\n",
       "2              Rössle Sauerkraut          12           7      45.60\n",
       "3                   Alice Mutton           7           6      39.00\n",
       "4                  Perth Pasties          24           6      32.80\n",
       "5         Chef Anton's Gumbo Mix           2           2      21.35\n",
       "6  Singaporean Hokkien Fried Mee          20           5      14.00\n",
       "7             Guaraná Fantástica          10           1       4.50"
      ]
     },
     "execution_count": 6,
     "metadata": {},
     "output_type": "execute_result"
    }
   ],
   "source": [
    "discontinued = '''SELECT ProductName, SupplierId, CategoryId, UnitPrice FROM Product\n",
    "                    WHERE Discontinued = 1\n",
    "                    ORDER BY UnitPrice DESC'''\n",
    "pd.read_sql_query(discontinued, engine)"
   ]
  },
  {
   "cell_type": "markdown",
   "metadata": {},
   "source": [
    "At first glance, we see that 4 of the 8 products share the same CategoryId (6, which we found corresponds to \"Meat/Poultry\" after later joining the Category table).\n",
    "\n",
    "Perhaps we can gain some insight just by going down the rabbit hole of \"Discontinued product analysis\", or it might just be a dead end...but either way it will give us a better understanding of the database and may lead to more useful questions about our current product line/product mix.\n",
    "\n",
    "For what it's worth, I considered analyzing the popularity of meat/poultry products vs. vegetarian products after I discovered the rather alarming trend of discontinuations above, but ultimately decided against it.  File that under \"future work.\""
   ]
  },
  {
   "cell_type": "markdown",
   "metadata": {},
   "source": [
    "On to the first question:\n",
    "\n",
    "# Q1a: Do discounts have a statistically significant effect on the number of products customers order? \n",
    "\n",
    "We can find everything we need to answer this in the OrderDetail table."
   ]
  },
  {
   "cell_type": "code",
   "execution_count": 7,
   "metadata": {},
   "outputs": [
    {
     "name": "stdout",
     "output_type": "stream",
     "text": [
      "2019-03-26 20:56:38,190 INFO sqlalchemy.engine.base.Engine SELECT Quantity, Discount FROM OrderDetail\n",
      "2019-03-26 20:56:38,192 INFO sqlalchemy.engine.base.Engine ()\n"
     ]
    },
    {
     "data": {
      "text/html": [
       "<div>\n",
       "<style scoped>\n",
       "    .dataframe tbody tr th:only-of-type {\n",
       "        vertical-align: middle;\n",
       "    }\n",
       "\n",
       "    .dataframe tbody tr th {\n",
       "        vertical-align: top;\n",
       "    }\n",
       "\n",
       "    .dataframe thead th {\n",
       "        text-align: right;\n",
       "    }\n",
       "</style>\n",
       "<table border=\"1\" class=\"dataframe\">\n",
       "  <thead>\n",
       "    <tr style=\"text-align: right;\">\n",
       "      <th></th>\n",
       "      <th>Quantity</th>\n",
       "      <th>Discount</th>\n",
       "    </tr>\n",
       "  </thead>\n",
       "  <tbody>\n",
       "    <tr>\n",
       "      <th>0</th>\n",
       "      <td>12</td>\n",
       "      <td>0.0</td>\n",
       "    </tr>\n",
       "    <tr>\n",
       "      <th>1</th>\n",
       "      <td>10</td>\n",
       "      <td>0.0</td>\n",
       "    </tr>\n",
       "    <tr>\n",
       "      <th>2</th>\n",
       "      <td>5</td>\n",
       "      <td>0.0</td>\n",
       "    </tr>\n",
       "    <tr>\n",
       "      <th>3</th>\n",
       "      <td>9</td>\n",
       "      <td>0.0</td>\n",
       "    </tr>\n",
       "    <tr>\n",
       "      <th>4</th>\n",
       "      <td>40</td>\n",
       "      <td>0.0</td>\n",
       "    </tr>\n",
       "  </tbody>\n",
       "</table>\n",
       "</div>"
      ],
      "text/plain": [
       "   Quantity  Discount\n",
       "0        12       0.0\n",
       "1        10       0.0\n",
       "2         5       0.0\n",
       "3         9       0.0\n",
       "4        40       0.0"
      ]
     },
     "execution_count": 7,
     "metadata": {},
     "output_type": "execute_result"
    }
   ],
   "source": [
    "q1 = \"SELECT Quantity, Discount FROM OrderDetail\"\n",
    "q1_df = pd.read_sql_query(q1, engine)\n",
    "q1_df.head()"
   ]
  },
  {
   "cell_type": "code",
   "execution_count": 8,
   "metadata": {},
   "outputs": [
    {
     "data": {
      "text/html": [
       "<div>\n",
       "<style scoped>\n",
       "    .dataframe tbody tr th:only-of-type {\n",
       "        vertical-align: middle;\n",
       "    }\n",
       "\n",
       "    .dataframe tbody tr th {\n",
       "        vertical-align: top;\n",
       "    }\n",
       "\n",
       "    .dataframe thead th {\n",
       "        text-align: right;\n",
       "    }\n",
       "</style>\n",
       "<table border=\"1\" class=\"dataframe\">\n",
       "  <thead>\n",
       "    <tr style=\"text-align: right;\">\n",
       "      <th></th>\n",
       "      <th>Quantity</th>\n",
       "      <th>Discount</th>\n",
       "    </tr>\n",
       "  </thead>\n",
       "  <tbody>\n",
       "    <tr>\n",
       "      <th>count</th>\n",
       "      <td>2155.000000</td>\n",
       "      <td>2155.000000</td>\n",
       "    </tr>\n",
       "    <tr>\n",
       "      <th>mean</th>\n",
       "      <td>23.812993</td>\n",
       "      <td>0.056167</td>\n",
       "    </tr>\n",
       "    <tr>\n",
       "      <th>std</th>\n",
       "      <td>19.022047</td>\n",
       "      <td>0.083450</td>\n",
       "    </tr>\n",
       "    <tr>\n",
       "      <th>min</th>\n",
       "      <td>1.000000</td>\n",
       "      <td>0.000000</td>\n",
       "    </tr>\n",
       "    <tr>\n",
       "      <th>25%</th>\n",
       "      <td>10.000000</td>\n",
       "      <td>0.000000</td>\n",
       "    </tr>\n",
       "    <tr>\n",
       "      <th>50%</th>\n",
       "      <td>20.000000</td>\n",
       "      <td>0.000000</td>\n",
       "    </tr>\n",
       "    <tr>\n",
       "      <th>75%</th>\n",
       "      <td>30.000000</td>\n",
       "      <td>0.100000</td>\n",
       "    </tr>\n",
       "    <tr>\n",
       "      <th>max</th>\n",
       "      <td>130.000000</td>\n",
       "      <td>0.250000</td>\n",
       "    </tr>\n",
       "  </tbody>\n",
       "</table>\n",
       "</div>"
      ],
      "text/plain": [
       "          Quantity     Discount\n",
       "count  2155.000000  2155.000000\n",
       "mean     23.812993     0.056167\n",
       "std      19.022047     0.083450\n",
       "min       1.000000     0.000000\n",
       "25%      10.000000     0.000000\n",
       "50%      20.000000     0.000000\n",
       "75%      30.000000     0.100000\n",
       "max     130.000000     0.250000"
      ]
     },
     "execution_count": 8,
     "metadata": {},
     "output_type": "execute_result"
    }
   ],
   "source": [
    "q1_df.describe()"
   ]
  },
  {
   "cell_type": "markdown",
   "metadata": {},
   "source": [
    "Let's make this binary for the first part of the question - we're only interested in whether a discount was given, not the level of discount."
   ]
  },
  {
   "cell_type": "code",
   "execution_count": 9,
   "metadata": {},
   "outputs": [],
   "source": [
    "q1_df['Discounted'] = q1_df['Discount'].apply(lambda x: 1 if x > 0 else 0)"
   ]
  },
  {
   "cell_type": "code",
   "execution_count": 10,
   "metadata": {},
   "outputs": [],
   "source": [
    "no_disc = q1_df[q1_df['Discounted'] == 0]\n",
    "disc = q1_df[q1_df['Discounted'] == 1]"
   ]
  },
  {
   "cell_type": "markdown",
   "metadata": {},
   "source": [
    "Let's visualize the distributions as well as the means now that we have subsets for both."
   ]
  },
  {
   "cell_type": "code",
   "execution_count": 11,
   "metadata": {},
   "outputs": [
    {
     "data": {
      "image/png": "[encoded data removed]",
      "text/plain": [
       "<Figure size 864x576 with 1 Axes>"
      ]
     },
     "metadata": {
      "needs_background": "light"
     },
     "output_type": "display_data"
    }
   ],
   "source": [
    "import warnings\n",
    "warnings.filterwarnings('ignore')\n",
    "\n",
    "plt.figure(figsize=(12,8))\n",
    "sns.distplot(no_disc['Quantity'], color= 'r', label = 'Not Discounted')\n",
    "sns.distplot(disc['Quantity'], color = 'g', label = 'Discounted')\n",
    "plt.legend()\n",
    "plt.show();"
   ]
  },
  {
   "cell_type": "code",
   "execution_count": 12,
   "metadata": {},
   "outputs": [
    {
     "data": {
      "image/png": "[encoded data removed]",
      "text/plain": [
       "<Figure size 864x576 with 1 Axes>"
      ]
     },
     "metadata": {
      "needs_background": "light"
     },
     "output_type": "display_data"
    }
   ],
   "source": [
    "colormap = ('lawngreen', 'crimson')\n",
    "X = ['Discounted', 'Not Discounted']\n",
    "y = [disc.Quantity.mean(), no_disc.Quantity.mean()]\n",
    "plt.figure(figsize=(12,8))\n",
    "plt.bar(X, y, color=colormap)\n",
    "plt.ylabel('Average Quantity Ordered')\n",
    "plt.title('Average Quantity Ordered: Discount vs No Discount')\n",
    "plt.show();"
   ]
  },
  {
   "cell_type": "markdown",
   "metadata": {},
   "source": [
    "From the visualizations, it's clear that the discounted orders appear to come in higher quantities.  Let's proceed to hypothesis testing to determine if there is *a statistically significant difference.*\n",
    "\n",
    "First, we'll state our null and alternative hypotheses and declare a significance level $\\alpha$.\n",
    "\n",
    "**H<sub>0</sub>: There is no difference in the quantity of products that customers order when given a discount** <br>\n",
    "**H<sub>A</sub>: The quantity of products that customers order INCREASES when given a discount** <br>\n",
    "**$\\alpha$: 0.05**"
   ]
  },
  {
   "cell_type": "markdown",
   "metadata": {},
   "source": [
    "To determine the answer, we'll use a two-sample t-test."
   ]
  },
  {
   "cell_type": "code",
   "execution_count": 13,
   "metadata": {},
   "outputs": [
    {
     "name": "stdout",
     "output_type": "stream",
     "text": [
      "T-statistic: -6.4785631962949015, Two-tailed p-value: 1.1440924523215966e-10\n",
      "One tailed p-value: 5.720462261607983e-11\n"
     ]
    }
   ],
   "source": [
    "t, p = stats.ttest_ind(no_disc['Quantity'], disc['Quantity'])\n",
    "print('T-statistic: {}, Two-tailed p-value: {}'.format(t,p))# this is 2-tailed by default\n",
    "print('One tailed p-value: {}'.format(p/2))  #to give us our 1-tailed p-value"
   ]
  },
  {
   "cell_type": "markdown",
   "metadata": {},
   "source": [
    "## Q1a results:\n",
    "Our p-value is microscopic and far below the alpha level of 0.05, so ***we can reject the null hypothesis and conclude that there is a statistically significant increase in quantity of products ordered when customers are given a discount.***"
   ]
  },
  {
   "cell_type": "markdown",
   "metadata": {},
   "source": [
    "# Q1b: If so (i.e. if Q1a is statistically signifcant), at what level(s) of discount?"
   ]
  },
  {
   "cell_type": "markdown",
   "metadata": {},
   "source": [
    "For this part of the question, we are interested in the specific levels of discount, so we'll return to our original dataframe."
   ]
  },
  {
   "cell_type": "code",
   "execution_count": 14,
   "metadata": {},
   "outputs": [
    {
     "data": {
      "text/plain": [
       "array([0.  , 0.15, 0.05, 0.2 , 0.25, 0.1 , 0.02, 0.03, 0.04, 0.06, 0.01])"
      ]
     },
     "execution_count": 14,
     "metadata": {},
     "output_type": "execute_result"
    }
   ],
   "source": [
    "q1_df['Discount'].unique()"
   ]
  },
  {
   "cell_type": "code",
   "execution_count": 15,
   "metadata": {},
   "outputs": [
    {
     "data": {
      "text/plain": [
       "0.00    1317\n",
       "0.05     185\n",
       "0.10     173\n",
       "0.20     161\n",
       "0.15     157\n",
       "0.25     154\n",
       "0.03       3\n",
       "0.02       2\n",
       "0.01       1\n",
       "0.04       1\n",
       "0.06       1\n",
       "Name: Discount, dtype: int64"
      ]
     },
     "execution_count": 15,
     "metadata": {},
     "output_type": "execute_result"
    }
   ],
   "source": [
    "q1_df['Discount'].value_counts()"
   ]
  },
  {
   "cell_type": "markdown",
   "metadata": {},
   "source": [
    "Let's focus on 5%, 10%, 15%, 20%, 25%...the others are small discount levels and have extremely small samples, so it's clear that the company rarely offers discounts that aren't at some multiple of 5% anyways."
   ]
  },
  {
   "cell_type": "code",
   "execution_count": 16,
   "metadata": {},
   "outputs": [
    {
     "data": {
      "text/plain": [
       "(2155, 3)"
      ]
     },
     "execution_count": 16,
     "metadata": {},
     "output_type": "execute_result"
    }
   ],
   "source": [
    "q1_df.shape"
   ]
  },
  {
   "cell_type": "code",
   "execution_count": 17,
   "metadata": {},
   "outputs": [],
   "source": [
    "q1b_df = q1_df[q1_df['Discount'].isin([0.05, 0.10, 0.15, 0.20, 0.25])]"
   ]
  },
  {
   "cell_type": "code",
   "execution_count": 18,
   "metadata": {},
   "outputs": [
    {
     "data": {
      "text/plain": [
       "(830, 3)"
      ]
     },
     "execution_count": 18,
     "metadata": {},
     "output_type": "execute_result"
    }
   ],
   "source": [
    "q1b_df.shape"
   ]
  },
  {
   "cell_type": "markdown",
   "metadata": {},
   "source": [
    "Just a sanity check....looks like we successfully filtered out the non-discounted items and those other occasional discounts of 1%, 2%, 3%, 4%, and 6%."
   ]
  },
  {
   "cell_type": "code",
   "execution_count": 19,
   "metadata": {},
   "outputs": [],
   "source": [
    "discount_count = q1b_df['Discount'].value_counts()"
   ]
  },
  {
   "cell_type": "code",
   "execution_count": 20,
   "metadata": {},
   "outputs": [
    {
     "data": {
      "image/png": "[encoded data removed]",
      "text/plain": [
       "<Figure size 720x360 with 1 Axes>"
      ]
     },
     "metadata": {
      "needs_background": "light"
     },
     "output_type": "display_data"
    }
   ],
   "source": [
    "plt.figure(figsize=(10,5))\n",
    "plt.title(\"Quantities Ordered by Level of Discount\", fontsize =16)\n",
    "sns.barplot(discount_count.index, discount_count.values, alpha = 0.7)\n",
    "plt.ylabel('Quantities', fontsize=12)\n",
    "plt.xlabel('Level of Discount', fontsize=12)\n",
    "plt.show();"
   ]
  },
  {
   "cell_type": "markdown",
   "metadata": {},
   "source": [
    "Let's again declare our hypotheses and significance level before testing:\n",
    "\n",
    "**H<sub>0</sub>: The average quantity ordered is the same across all levels of discount** <br>\n",
    "**H<sub>A</sub>: The average quantity ordered differs depending on discount level** <br>\n",
    "**$\\alpha$: 0.05**"
   ]
  },
  {
   "cell_type": "markdown",
   "metadata": {},
   "source": [
    "Let's first use ANOVA testing since we have more than 2 samples and we want to generally determine if there's a statistically significant difference between any of them."
   ]
  },
  {
   "cell_type": "code",
   "execution_count": 21,
   "metadata": {},
   "outputs": [
    {
     "data": {
      "text/html": [
       "<div>\n",
       "<style scoped>\n",
       "    .dataframe tbody tr th:only-of-type {\n",
       "        vertical-align: middle;\n",
       "    }\n",
       "\n",
       "    .dataframe tbody tr th {\n",
       "        vertical-align: top;\n",
       "    }\n",
       "\n",
       "    .dataframe thead th {\n",
       "        text-align: right;\n",
       "    }\n",
       "</style>\n",
       "<table border=\"1\" class=\"dataframe\">\n",
       "  <thead>\n",
       "    <tr style=\"text-align: right;\">\n",
       "      <th></th>\n",
       "      <th>df</th>\n",
       "      <th>sum_sq</th>\n",
       "      <th>mean_sq</th>\n",
       "      <th>F</th>\n",
       "      <th>PR(&gt;F)</th>\n",
       "    </tr>\n",
       "  </thead>\n",
       "  <tbody>\n",
       "    <tr>\n",
       "      <th>C(Discount)</th>\n",
       "      <td>4.0</td>\n",
       "      <td>1159.517551</td>\n",
       "      <td>289.879388</td>\n",
       "      <td>0.674103</td>\n",
       "      <td>0.610041</td>\n",
       "    </tr>\n",
       "    <tr>\n",
       "      <th>Residual</th>\n",
       "      <td>825.0</td>\n",
       "      <td>354768.342690</td>\n",
       "      <td>430.022234</td>\n",
       "      <td>NaN</td>\n",
       "      <td>NaN</td>\n",
       "    </tr>\n",
       "  </tbody>\n",
       "</table>\n",
       "</div>"
      ],
      "text/plain": [
       "                df         sum_sq     mean_sq         F    PR(>F)\n",
       "C(Discount)    4.0    1159.517551  289.879388  0.674103  0.610041\n",
       "Residual     825.0  354768.342690  430.022234       NaN       NaN"
      ]
     },
     "execution_count": 21,
     "metadata": {},
     "output_type": "execute_result"
    }
   ],
   "source": [
    "formula = 'Quantity ~ C(Discount)'\n",
    "lm = ols(formula, q1b_df).fit()\n",
    "table = sm.stats.anova_lm(lm, typ=1) #1 way anova because we only have 1 ind var (quantity)\n",
    "table"
   ]
  },
  {
   "cell_type": "markdown",
   "metadata": {},
   "source": [
    "## Q1b results:\n",
    "\n",
    "OK, our p-value is quite high here compared to our alpha level, 0.61 > 0.05.  Based on the ANOVA results, we ***fail to reject the null hypothesis and conclude that there is not a statistically significant difference in the quantity ordered based on the discount level offered.*** <br>\n",
    "\n",
    "However, I am curious to see how each discount level compares to the other, so for further analysis we'll use a Tukey HSD test below."
   ]
  },
  {
   "cell_type": "code",
   "execution_count": 22,
   "metadata": {},
   "outputs": [
    {
     "name": "stdout",
     "output_type": "stream",
     "text": [
      "Multiple Comparison of Means - Tukey HSD,FWER=0.05\n",
      "============================================\n",
      "group1 group2 meandiff  lower  upper  reject\n",
      "--------------------------------------------\n",
      " 0.05   0.1   -2.7738  -8.7696 3.222  False \n",
      " 0.05   0.15   0.3714  -5.7803 6.523  False \n",
      " 0.05   0.2    -0.986  -7.0962 5.1242 False \n",
      " 0.05   0.25   0.2294  -5.9546 6.4134 False \n",
      " 0.1    0.15   3.1452  -3.1037 9.394  False \n",
      " 0.1    0.2    1.7879  -4.4202 7.9959 False \n",
      " 0.1    0.25   3.0033  -3.2774 9.2839 False \n",
      " 0.15   0.2   -1.3573   -7.716 5.0014 False \n",
      " 0.15   0.25  -0.1419  -6.5715 6.2877 False \n",
      " 0.2    0.25   1.2154  -5.1745 7.6054 False \n",
      "--------------------------------------------\n"
     ]
    }
   ],
   "source": [
    "mc = MultiComparison(q1b_df['Quantity'], q1b_df['Discount'])\n",
    "mc_results = mc.tukeyhsd()\n",
    "print(mc_results)"
   ]
  },
  {
   "cell_type": "markdown",
   "metadata": {},
   "source": [
    "We see no significant results comparing any level of discount with another, so this confirms the more general conclusion from ANOVA testing.\n",
    "\n",
    "The general business insight here is that we should be offering discounts, but there's no need to offer HIGHER discounts; we'll see comparable results at the 5% level vs. the 25% level, so we may as well retain as much profit as possible and discount at 5% whenever we do decide to offer a discount."
   ]
  },
  {
   "cell_type": "markdown",
   "metadata": {},
   "source": [
    "# Q2: Do British Isles \"sales reps\" generate more average revenue per order than their counterparts in North America?"
   ]
  },
  {
   "cell_type": "markdown",
   "metadata": {},
   "source": [
    "We observed during EDA of the database that most customers are located in Europe, so a broader question that came to mind is whether we should focus our operations in Western Europe and/or move our headquarters to Western Europe.  The next couple specific questions and hypothesis tests will help provide us with some regional insight based on current performance and data."
   ]
  },
  {
   "cell_type": "code",
   "execution_count": 23,
   "metadata": {},
   "outputs": [
    {
     "name": "stdout",
     "output_type": "stream",
     "text": [
      "2019-03-26 20:56:39,430 INFO sqlalchemy.engine.base.Engine SELECT e.LastName, e.Region, e.Title FROM Employee e\n",
      "        ORDER BY e.Region DESC\n",
      "2019-03-26 20:56:39,431 INFO sqlalchemy.engine.base.Engine ()\n"
     ]
    },
    {
     "data": {
      "text/html": [
       "<div>\n",
       "<style scoped>\n",
       "    .dataframe tbody tr th:only-of-type {\n",
       "        vertical-align: middle;\n",
       "    }\n",
       "\n",
       "    .dataframe tbody tr th {\n",
       "        vertical-align: top;\n",
       "    }\n",
       "\n",
       "    .dataframe thead th {\n",
       "        text-align: right;\n",
       "    }\n",
       "</style>\n",
       "<table border=\"1\" class=\"dataframe\">\n",
       "  <thead>\n",
       "    <tr style=\"text-align: right;\">\n",
       "      <th></th>\n",
       "      <th>LastName</th>\n",
       "      <th>Region</th>\n",
       "      <th>Title</th>\n",
       "    </tr>\n",
       "  </thead>\n",
       "  <tbody>\n",
       "    <tr>\n",
       "      <th>0</th>\n",
       "      <td>Davolio</td>\n",
       "      <td>North America</td>\n",
       "      <td>Sales Representative</td>\n",
       "    </tr>\n",
       "    <tr>\n",
       "      <th>1</th>\n",
       "      <td>Fuller</td>\n",
       "      <td>North America</td>\n",
       "      <td>Vice President, Sales</td>\n",
       "    </tr>\n",
       "    <tr>\n",
       "      <th>2</th>\n",
       "      <td>Leverling</td>\n",
       "      <td>North America</td>\n",
       "      <td>Sales Representative</td>\n",
       "    </tr>\n",
       "    <tr>\n",
       "      <th>3</th>\n",
       "      <td>Peacock</td>\n",
       "      <td>North America</td>\n",
       "      <td>Sales Representative</td>\n",
       "    </tr>\n",
       "    <tr>\n",
       "      <th>4</th>\n",
       "      <td>Callahan</td>\n",
       "      <td>North America</td>\n",
       "      <td>Inside Sales Coordinator</td>\n",
       "    </tr>\n",
       "    <tr>\n",
       "      <th>5</th>\n",
       "      <td>Buchanan</td>\n",
       "      <td>British Isles</td>\n",
       "      <td>Sales Manager</td>\n",
       "    </tr>\n",
       "    <tr>\n",
       "      <th>6</th>\n",
       "      <td>Suyama</td>\n",
       "      <td>British Isles</td>\n",
       "      <td>Sales Representative</td>\n",
       "    </tr>\n",
       "    <tr>\n",
       "      <th>7</th>\n",
       "      <td>King</td>\n",
       "      <td>British Isles</td>\n",
       "      <td>Sales Representative</td>\n",
       "    </tr>\n",
       "    <tr>\n",
       "      <th>8</th>\n",
       "      <td>Dodsworth</td>\n",
       "      <td>British Isles</td>\n",
       "      <td>Sales Representative</td>\n",
       "    </tr>\n",
       "  </tbody>\n",
       "</table>\n",
       "</div>"
      ],
      "text/plain": [
       "    LastName         Region                     Title\n",
       "0    Davolio  North America      Sales Representative\n",
       "1     Fuller  North America     Vice President, Sales\n",
       "2  Leverling  North America      Sales Representative\n",
       "3    Peacock  North America      Sales Representative\n",
       "4   Callahan  North America  Inside Sales Coordinator\n",
       "5   Buchanan  British Isles             Sales Manager\n",
       "6     Suyama  British Isles      Sales Representative\n",
       "7       King  British Isles      Sales Representative\n",
       "8  Dodsworth  British Isles      Sales Representative"
      ]
     },
     "execution_count": 23,
     "metadata": {},
     "output_type": "execute_result"
    }
   ],
   "source": [
    "emp_q = '''SELECT e.LastName, e.Region, e.Title FROM Employee e\n",
    "        ORDER BY e.Region DESC'''\n",
    "pd.read_sql_query(emp_q, engine)"
   ]
  },
  {
   "cell_type": "markdown",
   "metadata": {},
   "source": [
    "There are 3 employees with the title 'Sales Representative' in each region, so the following query isolates our results to only orders placed through Sales Reps and ensures that we're making an apples-to-apples comparison (as opposed to including employees with other roles and responsibilites - this assumes that \"Sales Representatives\" across the company have the same job description and are charged with the same duties). <br>\n",
    "\n",
    "Here we are joining the OrderDetail, Order, and Employee tables to access all the necessary data."
   ]
  },
  {
   "cell_type": "code",
   "execution_count": 24,
   "metadata": {},
   "outputs": [
    {
     "name": "stdout",
     "output_type": "stream",
     "text": [
      "2019-03-26 20:56:39,456 INFO sqlalchemy.engine.base.Engine SELECT od.OrderId, SUM(od.Quantity*od.UnitPrice) AS tot_revenue, e.Region FROM OrderDetail od\n",
      "        LEFT JOIN [Order] o ON od.OrderId = o.Id\n",
      "        LEFT JOIN Employee e  ON o.EmployeeId = e.Id\n",
      "        WHERE e.title = 'Sales Representative'\n",
      "        GROUP BY od.OrderId\n",
      "        \n",
      "2019-03-26 20:56:39,458 INFO sqlalchemy.engine.base.Engine ()\n"
     ]
    },
    {
     "data": {
      "text/html": [
       "<div>\n",
       "<style scoped>\n",
       "    .dataframe tbody tr th:only-of-type {\n",
       "        vertical-align: middle;\n",
       "    }\n",
       "\n",
       "    .dataframe tbody tr th {\n",
       "        vertical-align: top;\n",
       "    }\n",
       "\n",
       "    .dataframe thead th {\n",
       "        text-align: right;\n",
       "    }\n",
       "</style>\n",
       "<table border=\"1\" class=\"dataframe\">\n",
       "  <thead>\n",
       "    <tr style=\"text-align: right;\">\n",
       "      <th></th>\n",
       "      <th>OrderId</th>\n",
       "      <th>tot_revenue</th>\n",
       "      <th>Region</th>\n",
       "    </tr>\n",
       "  </thead>\n",
       "  <tbody>\n",
       "    <tr>\n",
       "      <th>0</th>\n",
       "      <td>10249</td>\n",
       "      <td>1863.4</td>\n",
       "      <td>British Isles</td>\n",
       "    </tr>\n",
       "    <tr>\n",
       "      <th>1</th>\n",
       "      <td>10250</td>\n",
       "      <td>1813.0</td>\n",
       "      <td>North America</td>\n",
       "    </tr>\n",
       "    <tr>\n",
       "      <th>2</th>\n",
       "      <td>10251</td>\n",
       "      <td>670.8</td>\n",
       "      <td>North America</td>\n",
       "    </tr>\n",
       "    <tr>\n",
       "      <th>3</th>\n",
       "      <td>10252</td>\n",
       "      <td>3730.0</td>\n",
       "      <td>North America</td>\n",
       "    </tr>\n",
       "    <tr>\n",
       "      <th>4</th>\n",
       "      <td>10253</td>\n",
       "      <td>1444.8</td>\n",
       "      <td>North America</td>\n",
       "    </tr>\n",
       "  </tbody>\n",
       "</table>\n",
       "</div>"
      ],
      "text/plain": [
       "   OrderId  tot_revenue         Region\n",
       "0    10249       1863.4  British Isles\n",
       "1    10250       1813.0  North America\n",
       "2    10251        670.8  North America\n",
       "3    10252       3730.0  North America\n",
       "4    10253       1444.8  North America"
      ]
     },
     "execution_count": 24,
     "metadata": {},
     "output_type": "execute_result"
    }
   ],
   "source": [
    "q2 = '''SELECT od.OrderId, SUM(od.Quantity*od.UnitPrice) AS tot_revenue, e.Region FROM OrderDetail od\n",
    "        LEFT JOIN [Order] o ON od.OrderId = o.Id\n",
    "        LEFT JOIN Employee e  ON o.EmployeeId = e.Id\n",
    "        WHERE e.title = 'Sales Representative'\n",
    "        GROUP BY od.OrderId\n",
    "        '''\n",
    "q2_df = pd.read_sql_query(q2, engine)\n",
    "q2_df.head()"
   ]
  },
  {
   "cell_type": "code",
   "execution_count": 25,
   "metadata": {},
   "outputs": [
    {
     "name": "stdout",
     "output_type": "stream",
     "text": [
      "<class 'pandas.core.frame.DataFrame'>\n",
      "RangeIndex: 588 entries, 0 to 587\n",
      "Data columns (total 3 columns):\n",
      "OrderId        588 non-null int64\n",
      "tot_revenue    588 non-null float64\n",
      "Region         588 non-null object\n",
      "dtypes: float64(1), int64(1), object(1)\n",
      "memory usage: 13.9+ KB\n"
     ]
    }
   ],
   "source": [
    "q2_df.info()"
   ]
  },
  {
   "cell_type": "code",
   "execution_count": 26,
   "metadata": {},
   "outputs": [
    {
     "name": "stdout",
     "output_type": "stream",
     "text": [
      "(406, 3)\n",
      "(182, 3)\n"
     ]
    }
   ],
   "source": [
    "NA_sales = q2_df[q2_df['Region'] == 'North America']\n",
    "BI_sales = q2_df[q2_df['Region'] == 'British Isles']\n",
    "print(NA_sales.shape)\n",
    "print(BI_sales.shape)"
   ]
  },
  {
   "cell_type": "code",
   "execution_count": 27,
   "metadata": {},
   "outputs": [
    {
     "name": "stdout",
     "output_type": "stream",
     "text": [
      "1638.873054187192\n",
      "1661.8576373626372\n"
     ]
    }
   ],
   "source": [
    "print(NA_sales['tot_revenue'].mean())\n",
    "print(BI_sales['tot_revenue'].mean())"
   ]
  },
  {
   "cell_type": "code",
   "execution_count": 28,
   "metadata": {},
   "outputs": [
    {
     "data": {
      "image/png": "[encoded data removed]",
      "text/plain": [
       "<Figure size 1152x648 with 2 Axes>"
      ]
     },
     "metadata": {
      "needs_background": "light"
     },
     "output_type": "display_data"
    }
   ],
   "source": [
    "plt.figure(figsize=(16,9))\n",
    "ax1 = plt.subplot(1,2,1)\n",
    "ax2 = plt.subplot(1,2,2)\n",
    "ax1.hist(NA_sales['tot_revenue'], color='c', edgecolor='k', bins=50)\n",
    "ax2.hist(BI_sales['tot_revenue'], color = 'b', edgecolor='k', bins=50)\n",
    "ax1.set_title(\"North American revenue per order placed\")\n",
    "ax2.set_title(\"British Isles revenue per order placed\")\n",
    "ax1.set_xlabel(\"Revenue\")\n",
    "ax1.set_ylabel(\"Orders\")\n",
    "ax2.set_xlabel(\"Revenue\")\n",
    "ax2.set_ylabel(\"Orders\")\n",
    "plt.tight_layout()\n",
    "plt.show();"
   ]
  },
  {
   "cell_type": "markdown",
   "metadata": {},
   "source": [
    "Again, let's declare our hypotheses and significance level prior to testing:\n",
    "\n",
    "**H<sub>0</sub>: The average revenue generated is the same regardless of sales representative office region** <br>\n",
    "**H<sub>A</sub>: The average revenue generated is higher for orders placed in the British Isles sales region than the North American sales region.** <br>\n",
    "**$\\alpha$: 0.05** <br>\n",
    "<br>\n",
    "We will again use a one-tailed, two-sample t-test based on our experimental design."
   ]
  },
  {
   "cell_type": "code",
   "execution_count": 29,
   "metadata": {},
   "outputs": [
    {
     "name": "stdout",
     "output_type": "stream",
     "text": [
      "T-statistic: 0.1294527068470579, Two-tailed p-value: 0.8970438644331271\n",
      "One tailed p-value: 0.44852193221656356\n"
     ]
    }
   ],
   "source": [
    "t, p = stats.ttest_ind(BI_sales['tot_revenue'], NA_sales['tot_revenue'])\n",
    "print('T-statistic: {}, Two-tailed p-value: {}'.format(t,p))# this is 2-tailed by default\n",
    "print('One tailed p-value: {}'.format(p/2))  #to give us our 1-tailed p-value"
   ]
  },
  {
   "cell_type": "markdown",
   "metadata": {},
   "source": [
    "## Q2 results:\n",
    "\n",
    "Our p-value is well above 0.05, so we fail to reject the null hypothesis and conclude that there is no significant difference in revenue generated based on a sales representative's office location.  \n",
    "\n",
    "The rationale behind this test was to determine if we should consider locating more (or perhaps all) of our workforce in the British Isles due to the closer proximity to our majority European customer base.  Based on the findings, there is no justification to consider such a move at this time.  However, I'd recommend that we conduct some further testing in the future to approach the broader idea (moving the base of operations in Europe) from other angles."
   ]
  },
  {
   "cell_type": "markdown",
   "metadata": {},
   "source": [
    "# Q3:  Does our average profit margin per order placed vary significantly depending on which region supplies the products?\n",
    "\n",
    "**H<sub>0</sub>: There is no difference in the average profit margin per order placed, regardless of the region from which the product was supplied** <br>\n",
    "**H<sub>A</sub>: There is a difference in the average profit margin per order placed, depending on the region from which the product was supplied** <br>\n",
    "**$\\alpha$: 0.05**"
   ]
  },
  {
   "cell_type": "markdown",
   "metadata": {},
   "source": [
    "Here we are joining OrderDetail, Product, and Supplier Tables to take a closer look at our profitability levels by supplier. <br>\n",
    "\n",
    "It's important to note that we have two different Unit Prices - from the OrderDetail table I've encoded UnitPrice as \"WholeSalePrice\" and from the ProductTable I've encoded UnitPrice as \"Retail Price\" to differentiate the two."
   ]
  },
  {
   "cell_type": "code",
   "execution_count": 30,
   "metadata": {},
   "outputs": [
    {
     "name": "stdout",
     "output_type": "stream",
     "text": [
      "2019-03-26 20:56:40,116 INFO sqlalchemy.engine.base.Engine SELECT od.OrderId, od.UnitPrice as WholesalePrice, od.Quantity, p.CategoryId, p.ProductName, p.UnitPrice as RetailPrice, s.CompanyName, s.Region FROM OrderDetail od\n",
      "        LEFT JOIN Product p ON od.ProductId = p.Id\n",
      "        LEFT JOIN Supplier s ON p.SupplierId = s.Id\n",
      "        ORDER BY s.Region\n",
      "2019-03-26 20:56:40,120 INFO sqlalchemy.engine.base.Engine ()\n"
     ]
    }
   ],
   "source": [
    "q3 = '''SELECT od.OrderId, od.UnitPrice as WholesalePrice, od.Quantity, p.CategoryId, p.ProductName, p.UnitPrice as RetailPrice, s.CompanyName, s.Region FROM OrderDetail od\n",
    "        LEFT JOIN Product p ON od.ProductId = p.Id\n",
    "        LEFT JOIN Supplier s ON p.SupplierId = s.Id\n",
    "        ORDER BY s.Region'''\n",
    "q3_df = pd.read_sql_query(q3, engine)"
   ]
  },
  {
   "cell_type": "code",
   "execution_count": 31,
   "metadata": {},
   "outputs": [
    {
     "data": {
      "text/html": [
       "<div>\n",
       "<style scoped>\n",
       "    .dataframe tbody tr th:only-of-type {\n",
       "        vertical-align: middle;\n",
       "    }\n",
       "\n",
       "    .dataframe tbody tr th {\n",
       "        vertical-align: top;\n",
       "    }\n",
       "\n",
       "    .dataframe thead th {\n",
       "        text-align: right;\n",
       "    }\n",
       "</style>\n",
       "<table border=\"1\" class=\"dataframe\">\n",
       "  <thead>\n",
       "    <tr style=\"text-align: right;\">\n",
       "      <th></th>\n",
       "      <th>OrderId</th>\n",
       "      <th>WholesalePrice</th>\n",
       "      <th>Quantity</th>\n",
       "      <th>CategoryId</th>\n",
       "      <th>ProductName</th>\n",
       "      <th>RetailPrice</th>\n",
       "      <th>CompanyName</th>\n",
       "      <th>Region</th>\n",
       "    </tr>\n",
       "  </thead>\n",
       "  <tbody>\n",
       "    <tr>\n",
       "      <th>0</th>\n",
       "      <td>10252</td>\n",
       "      <td>64.8</td>\n",
       "      <td>40</td>\n",
       "      <td>3</td>\n",
       "      <td>Sir Rodney's Marmalade</td>\n",
       "      <td>81.0</td>\n",
       "      <td>Specialty Biscuits, Ltd.</td>\n",
       "      <td>British Isles</td>\n",
       "    </tr>\n",
       "    <tr>\n",
       "      <th>1</th>\n",
       "      <td>10255</td>\n",
       "      <td>15.2</td>\n",
       "      <td>20</td>\n",
       "      <td>1</td>\n",
       "      <td>Chang</td>\n",
       "      <td>19.0</td>\n",
       "      <td>Exotic Liquids</td>\n",
       "      <td>British Isles</td>\n",
       "    </tr>\n",
       "    <tr>\n",
       "      <th>2</th>\n",
       "      <td>10258</td>\n",
       "      <td>15.2</td>\n",
       "      <td>50</td>\n",
       "      <td>1</td>\n",
       "      <td>Chang</td>\n",
       "      <td>19.0</td>\n",
       "      <td>Exotic Liquids</td>\n",
       "      <td>British Isles</td>\n",
       "    </tr>\n",
       "    <tr>\n",
       "      <th>3</th>\n",
       "      <td>10259</td>\n",
       "      <td>8.0</td>\n",
       "      <td>10</td>\n",
       "      <td>3</td>\n",
       "      <td>Sir Rodney's Scones</td>\n",
       "      <td>10.0</td>\n",
       "      <td>Specialty Biscuits, Ltd.</td>\n",
       "      <td>British Isles</td>\n",
       "    </tr>\n",
       "    <tr>\n",
       "      <th>4</th>\n",
       "      <td>10261</td>\n",
       "      <td>8.0</td>\n",
       "      <td>20</td>\n",
       "      <td>3</td>\n",
       "      <td>Sir Rodney's Scones</td>\n",
       "      <td>10.0</td>\n",
       "      <td>Specialty Biscuits, Ltd.</td>\n",
       "      <td>British Isles</td>\n",
       "    </tr>\n",
       "  </tbody>\n",
       "</table>\n",
       "</div>"
      ],
      "text/plain": [
       "   OrderId  WholesalePrice  Quantity  CategoryId             ProductName  \\\n",
       "0    10252            64.8        40           3  Sir Rodney's Marmalade   \n",
       "1    10255            15.2        20           1                   Chang   \n",
       "2    10258            15.2        50           1                   Chang   \n",
       "3    10259             8.0        10           3     Sir Rodney's Scones   \n",
       "4    10261             8.0        20           3     Sir Rodney's Scones   \n",
       "\n",
       "   RetailPrice               CompanyName         Region  \n",
       "0         81.0  Specialty Biscuits, Ltd.  British Isles  \n",
       "1         19.0            Exotic Liquids  British Isles  \n",
       "2         19.0            Exotic Liquids  British Isles  \n",
       "3         10.0  Specialty Biscuits, Ltd.  British Isles  \n",
       "4         10.0  Specialty Biscuits, Ltd.  British Isles  "
      ]
     },
     "execution_count": 31,
     "metadata": {},
     "output_type": "execute_result"
    }
   ],
   "source": [
    "q3_df.head()"
   ]
  },
  {
   "cell_type": "code",
   "execution_count": 32,
   "metadata": {},
   "outputs": [],
   "source": [
    "q3_df['profit_per_order'] = (q3_df['RetailPrice'] - q3_df['WholesalePrice']) * q3_df['Quantity']"
   ]
  },
  {
   "cell_type": "code",
   "execution_count": 33,
   "metadata": {},
   "outputs": [
    {
     "data": {
      "text/html": [
       "<div>\n",
       "<style scoped>\n",
       "    .dataframe tbody tr th:only-of-type {\n",
       "        vertical-align: middle;\n",
       "    }\n",
       "\n",
       "    .dataframe tbody tr th {\n",
       "        vertical-align: top;\n",
       "    }\n",
       "\n",
       "    .dataframe thead th {\n",
       "        text-align: right;\n",
       "    }\n",
       "</style>\n",
       "<table border=\"1\" class=\"dataframe\">\n",
       "  <thead>\n",
       "    <tr style=\"text-align: right;\">\n",
       "      <th></th>\n",
       "      <th>count</th>\n",
       "      <th>unique</th>\n",
       "      <th>top</th>\n",
       "      <th>freq</th>\n",
       "    </tr>\n",
       "    <tr>\n",
       "      <th>Region</th>\n",
       "      <th></th>\n",
       "      <th></th>\n",
       "      <th></th>\n",
       "      <th></th>\n",
       "    </tr>\n",
       "  </thead>\n",
       "  <tbody>\n",
       "    <tr>\n",
       "      <th>British Isles</th>\n",
       "      <td>220</td>\n",
       "      <td>2</td>\n",
       "      <td>Specialty Biscuits, Ltd.</td>\n",
       "      <td>126</td>\n",
       "    </tr>\n",
       "    <tr>\n",
       "      <th>Eastern Asia</th>\n",
       "      <td>119</td>\n",
       "      <td>2</td>\n",
       "      <td>Mayumi's</td>\n",
       "      <td>68</td>\n",
       "    </tr>\n",
       "    <tr>\n",
       "      <th>NSW</th>\n",
       "      <td>98</td>\n",
       "      <td>1</td>\n",
       "      <td>G'day, Mate</td>\n",
       "      <td>98</td>\n",
       "    </tr>\n",
       "    <tr>\n",
       "      <th>North America</th>\n",
       "      <td>418</td>\n",
       "      <td>6</td>\n",
       "      <td>New England Seafood Cannery</td>\n",
       "      <td>88</td>\n",
       "    </tr>\n",
       "    <tr>\n",
       "      <th>Northern Europe</th>\n",
       "      <td>153</td>\n",
       "      <td>4</td>\n",
       "      <td>Svensk Sjöföda AB</td>\n",
       "      <td>51</td>\n",
       "    </tr>\n",
       "    <tr>\n",
       "      <th>Scandinavia</th>\n",
       "      <td>175</td>\n",
       "      <td>2</td>\n",
       "      <td>Norske Meierier</td>\n",
       "      <td>105</td>\n",
       "    </tr>\n",
       "    <tr>\n",
       "      <th>South America</th>\n",
       "      <td>51</td>\n",
       "      <td>1</td>\n",
       "      <td>Refrescos Americanas LTDA</td>\n",
       "      <td>51</td>\n",
       "    </tr>\n",
       "    <tr>\n",
       "      <th>South-East Asia</th>\n",
       "      <td>82</td>\n",
       "      <td>1</td>\n",
       "      <td>Leka Trading</td>\n",
       "      <td>82</td>\n",
       "    </tr>\n",
       "    <tr>\n",
       "      <th>Southern Europe</th>\n",
       "      <td>229</td>\n",
       "      <td>3</td>\n",
       "      <td>Formaggi Fortini s.r.l.</td>\n",
       "      <td>104</td>\n",
       "    </tr>\n",
       "    <tr>\n",
       "      <th>Victoria</th>\n",
       "      <td>163</td>\n",
       "      <td>1</td>\n",
       "      <td>Pavlova, Ltd.</td>\n",
       "      <td>163</td>\n",
       "    </tr>\n",
       "    <tr>\n",
       "      <th>Western Europe</th>\n",
       "      <td>447</td>\n",
       "      <td>6</td>\n",
       "      <td>Plutzer Lebensmittelgroßmärkte AG</td>\n",
       "      <td>179</td>\n",
       "    </tr>\n",
       "  </tbody>\n",
       "</table>\n",
       "</div>"
      ],
      "text/plain": [
       "                count unique                                top freq\n",
       "Region                                                              \n",
       "British Isles     220      2           Specialty Biscuits, Ltd.  126\n",
       "Eastern Asia      119      2                           Mayumi's   68\n",
       "NSW                98      1                        G'day, Mate   98\n",
       "North America     418      6        New England Seafood Cannery   88\n",
       "Northern Europe   153      4                  Svensk Sjöföda AB   51\n",
       "Scandinavia       175      2                    Norske Meierier  105\n",
       "South America      51      1          Refrescos Americanas LTDA   51\n",
       "South-East Asia    82      1                       Leka Trading   82\n",
       "Southern Europe   229      3            Formaggi Fortini s.r.l.  104\n",
       "Victoria          163      1                      Pavlova, Ltd.  163\n",
       "Western Europe    447      6  Plutzer Lebensmittelgroßmärkte AG  179"
      ]
     },
     "execution_count": 33,
     "metadata": {},
     "output_type": "execute_result"
    }
   ],
   "source": [
    "q3_df.groupby('Region')['CompanyName'].describe()"
   ]
  },
  {
   "cell_type": "markdown",
   "metadata": {},
   "source": [
    "The above gives us a sense of how many suppliers we have in each region and how much of our inventory comes from each."
   ]
  },
  {
   "cell_type": "code",
   "execution_count": 34,
   "metadata": {},
   "outputs": [
    {
     "name": "stdout",
     "output_type": "stream",
     "text": [
      "77\n",
      "29\n"
     ]
    }
   ],
   "source": [
    "print(q3_df['ProductName'].nunique())\n",
    "print(q3_df['CompanyName'].nunique())"
   ]
  },
  {
   "cell_type": "code",
   "execution_count": 35,
   "metadata": {},
   "outputs": [
    {
     "data": {
      "text/plain": [
       "Region\n",
       "Western Europe     86.561790\n",
       "Victoria           51.785583\n",
       "NSW                45.948980\n",
       "South-East Asia    38.922561\n",
       "Southern Europe    37.510917\n",
       "North America      35.441866\n",
       "Scandinavia        31.386000\n",
       "British Isles      25.947727\n",
       "Eastern Asia       21.894958\n",
       "Northern Europe    16.919935\n",
       "South America       5.488235\n",
       "Name: profit_per_order, dtype: float64"
      ]
     },
     "execution_count": 35,
     "metadata": {},
     "output_type": "execute_result"
    }
   ],
   "source": [
    "q3_df.groupby('Region')['profit_per_order'].mean().sort_values(ascending=False)"
   ]
  },
  {
   "cell_type": "markdown",
   "metadata": {},
   "source": [
    "This gives us an initial sense of how profitable each supplier region is.  **What is happening in South America?!**"
   ]
  },
  {
   "cell_type": "code",
   "execution_count": 36,
   "metadata": {},
   "outputs": [
    {
     "data": {
      "text/plain": [
       "0.0     36\n",
       "9.0      3\n",
       "13.5     3\n",
       "25.2     2\n",
       "10.8     2\n",
       "22.5     2\n",
       "5.4      1\n",
       "72.0     1\n",
       "18.0     1\n",
       "Name: profit_per_order, dtype: int64"
      ]
     },
     "execution_count": 36,
     "metadata": {},
     "output_type": "execute_result"
    }
   ],
   "source": [
    "q3_df[q3_df['Region'] == 'South America']['profit_per_order'].value_counts()"
   ]
  },
  {
   "cell_type": "markdown",
   "metadata": {},
   "source": [
    "Most of our products from South America appear to be sold AT COST."
   ]
  },
  {
   "cell_type": "code",
   "execution_count": 37,
   "metadata": {},
   "outputs": [
    {
     "data": {
      "text/plain": [
       "array(['Guaraná Fantástica'], dtype=object)"
      ]
     },
     "execution_count": 37,
     "metadata": {},
     "output_type": "execute_result"
    }
   ],
   "source": [
    "q3_df[(q3_df.Region == 'South America') & (q3_df.profit_per_order == 0.0)]['ProductName'].unique()"
   ]
  },
  {
   "cell_type": "markdown",
   "metadata": {},
   "source": [
    "OK, this is a minor relief.  Going back to our Discontinued table from our initial EDA, we see that this product is in fact discontinued.  Northwind has already come its senses and decided not to sell this product since they make literally no profit on it. The other South American orders are also fairly unprofitable...let's look at those too: <br>"
   ]
  },
  {
   "cell_type": "code",
   "execution_count": 38,
   "metadata": {},
   "outputs": [
    {
     "data": {
      "text/plain": [
       "array(['Guaraná Fantástica'], dtype=object)"
      ]
     },
     "execution_count": 38,
     "metadata": {},
     "output_type": "execute_result"
    }
   ],
   "source": [
    "q3_df[(q3_df.Region == 'South America')& (q3_df.profit_per_order != 0.0)]['ProductName'].unique()"
   ]
  },
  {
   "cell_type": "markdown",
   "metadata": {},
   "source": [
    "Interesting...it appears that at some point that our supplier raised the price for this product, at which point we sold it at cost for a while and then stopped selling it altogether.  \n",
    "At any rate, with this discovery, perhaps I should add a \"where\" clause to my select statement to filter out the discontinued products (since the company is presumably no longer interested in analyzing those).  "
   ]
  },
  {
   "cell_type": "code",
   "execution_count": 39,
   "metadata": {},
   "outputs": [
    {
     "name": "stdout",
     "output_type": "stream",
     "text": [
      "2019-03-26 20:56:40,340 INFO sqlalchemy.engine.base.Engine SELECT od.OrderId, od.UnitPrice as WholesalePrice, od.Quantity, p.CategoryId, p.ProductName, p.UnitPrice as RetailPrice, s.CompanyName, s.Region FROM OrderDetail od\n",
      "        LEFT JOIN Product p ON od.ProductId = p.Id\n",
      "        LEFT JOIN Supplier s ON p.SupplierId = s.Id\n",
      "        WHERE p.Discontinued = 0\n",
      "        ORDER BY s.Region\n",
      "2019-03-26 20:56:40,341 INFO sqlalchemy.engine.base.Engine ()\n"
     ]
    }
   ],
   "source": [
    "q3b = '''SELECT od.OrderId, od.UnitPrice as WholesalePrice, od.Quantity, p.CategoryId, p.ProductName, p.UnitPrice as RetailPrice, s.CompanyName, s.Region FROM OrderDetail od\n",
    "        LEFT JOIN Product p ON od.ProductId = p.Id\n",
    "        LEFT JOIN Supplier s ON p.SupplierId = s.Id\n",
    "        WHERE p.Discontinued = 0\n",
    "        ORDER BY s.Region'''\n",
    "q3b_df = pd.read_sql_query(q3b, engine)"
   ]
  },
  {
   "cell_type": "code",
   "execution_count": 40,
   "metadata": {},
   "outputs": [],
   "source": [
    "q3b_df['profit_per_order'] = (q3b_df['RetailPrice'] - q3b_df['WholesalePrice']) * q3b_df['Quantity']"
   ]
  },
  {
   "cell_type": "code",
   "execution_count": 41,
   "metadata": {},
   "outputs": [
    {
     "data": {
      "text/plain": [
       "North America      408\n",
       "Western Europe     382\n",
       "Southern Europe    229\n",
       "British Isles      220\n",
       "Scandinavia        175\n",
       "Northern Europe    153\n",
       "Victoria           126\n",
       "Eastern Asia       114\n",
       "NSW                 68\n",
       "South-East Asia     52\n",
       "Name: Region, dtype: int64"
      ]
     },
     "execution_count": 41,
     "metadata": {},
     "output_type": "execute_result"
    }
   ],
   "source": [
    "q3b_df.Region.value_counts()"
   ]
  },
  {
   "cell_type": "markdown",
   "metadata": {},
   "source": [
    "As we can see now, South America is out of the picture as they only supplied the one discontinued product."
   ]
  },
  {
   "cell_type": "code",
   "execution_count": 42,
   "metadata": {},
   "outputs": [
    {
     "name": "stdout",
     "output_type": "stream",
     "text": [
      "<class 'pandas.core.frame.DataFrame'>\n",
      "RangeIndex: 1927 entries, 0 to 1926\n",
      "Data columns (total 9 columns):\n",
      "OrderId             1927 non-null int64\n",
      "WholesalePrice      1927 non-null float64\n",
      "Quantity            1927 non-null int64\n",
      "CategoryId          1927 non-null int64\n",
      "ProductName         1927 non-null object\n",
      "RetailPrice         1927 non-null float64\n",
      "CompanyName         1927 non-null object\n",
      "Region              1927 non-null object\n",
      "profit_per_order    1927 non-null float64\n",
      "dtypes: float64(3), int64(3), object(3)\n",
      "memory usage: 135.6+ KB\n"
     ]
    }
   ],
   "source": [
    "q3b_df.info()"
   ]
  },
  {
   "cell_type": "code",
   "execution_count": 43,
   "metadata": {},
   "outputs": [
    {
     "data": {
      "text/plain": [
       "['British Isles',\n",
       " 'Eastern Asia',\n",
       " 'NSW',\n",
       " 'North America',\n",
       " 'Northern Europe',\n",
       " 'Scandinavia',\n",
       " 'South-East Asia',\n",
       " 'Southern Europe',\n",
       " 'Victoria',\n",
       " 'Western Europe']"
      ]
     },
     "execution_count": 43,
     "metadata": {},
     "output_type": "execute_result"
    }
   ],
   "source": [
    "list(q3b_df['Region'].unique())"
   ]
  },
  {
   "cell_type": "code",
   "execution_count": 44,
   "metadata": {},
   "outputs": [
    {
     "data": {
      "image/png": "[encoded data removed]",
      "text/plain": [
       "<Figure size 1080x360 with 1 Axes>"
      ]
     },
     "metadata": {
      "needs_background": "light"
     },
     "output_type": "display_data"
    }
   ],
   "source": [
    "y = np.array(q3b_df.groupby('Region')['profit_per_order'].mean())#.plot(kind='bar')\n",
    "x = list(q3b_df['Region'].unique())\n",
    "plt.figure(figsize=(15,5))\n",
    "plt.title(\"Mean Profit Per Order by Supplier Region\", fontsize =16)\n",
    "sns.barplot(x,y, alpha = 0.7)\n",
    "plt.ylabel('Mean Profit', fontsize=12)\n",
    "plt.show();\n"
   ]
  },
  {
   "cell_type": "markdown",
   "metadata": {},
   "source": [
    "This visualization alone lends some support to my idea posed earlier regarding Western Europe as a potential base of operations ...but we'll need to do some hypothesis testing to determine whether there's a statistically significant difference amongst regional suppliers."
   ]
  },
  {
   "cell_type": "markdown",
   "metadata": {},
   "source": [
    "Again, to start, let's look at ANOVA testing results since we have more than 2 samples to compare."
   ]
  },
  {
   "cell_type": "code",
   "execution_count": 45,
   "metadata": {},
   "outputs": [
    {
     "data": {
      "text/html": [
       "<div>\n",
       "<style scoped>\n",
       "    .dataframe tbody tr th:only-of-type {\n",
       "        vertical-align: middle;\n",
       "    }\n",
       "\n",
       "    .dataframe tbody tr th {\n",
       "        vertical-align: top;\n",
       "    }\n",
       "\n",
       "    .dataframe thead th {\n",
       "        text-align: right;\n",
       "    }\n",
       "</style>\n",
       "<table border=\"1\" class=\"dataframe\">\n",
       "  <thead>\n",
       "    <tr style=\"text-align: right;\">\n",
       "      <th></th>\n",
       "      <th>df</th>\n",
       "      <th>sum_sq</th>\n",
       "      <th>mean_sq</th>\n",
       "      <th>F</th>\n",
       "      <th>PR(&gt;F)</th>\n",
       "    </tr>\n",
       "  </thead>\n",
       "  <tbody>\n",
       "    <tr>\n",
       "      <th>C(Region)</th>\n",
       "      <td>9.0</td>\n",
       "      <td>9.147662e+05</td>\n",
       "      <td>101640.684966</td>\n",
       "      <td>4.581441</td>\n",
       "      <td>0.000005</td>\n",
       "    </tr>\n",
       "    <tr>\n",
       "      <th>Residual</th>\n",
       "      <td>1917.0</td>\n",
       "      <td>4.252924e+07</td>\n",
       "      <td>22185.309271</td>\n",
       "      <td>NaN</td>\n",
       "      <td>NaN</td>\n",
       "    </tr>\n",
       "  </tbody>\n",
       "</table>\n",
       "</div>"
      ],
      "text/plain": [
       "               df        sum_sq        mean_sq         F    PR(>F)\n",
       "C(Region)     9.0  9.147662e+05  101640.684966  4.581441  0.000005\n",
       "Residual   1917.0  4.252924e+07   22185.309271       NaN       NaN"
      ]
     },
     "execution_count": 45,
     "metadata": {},
     "output_type": "execute_result"
    }
   ],
   "source": [
    "formula = 'profit_per_order ~ C(Region)'\n",
    "lm = ols(formula, q3b_df).fit()\n",
    "table = sm.stats.anova_lm(lm, typ=1) #1 way anova because we only have 1 ind var (profit_per_order)\n",
    "table"
   ]
  },
  {
   "cell_type": "markdown",
   "metadata": {},
   "source": [
    "We have a very low p-value from Anova testing...let's look at Tukey HSD and how they compare to one another."
   ]
  },
  {
   "cell_type": "code",
   "execution_count": 46,
   "metadata": {},
   "outputs": [
    {
     "name": "stdout",
     "output_type": "stream",
     "text": [
      "        Multiple Comparison of Means - Tukey HSD,FWER=0.05       \n",
      "=================================================================\n",
      "     group1          group2     meandiff  lower    upper   reject\n",
      "-----------------------------------------------------------------\n",
      " British Isles    Eastern Asia   -6.496  -60.9405 47.9485  False \n",
      " British Isles        NSW        8.3405  -57.1193 73.8004  False \n",
      " British Isles   North America   8.9874  -30.4749 48.4498  False \n",
      " British Isles  Northern Europe -9.0278  -58.6918 40.6362  False \n",
      " British Isles    Scandinavia    5.4383  -42.3491 53.2256  False \n",
      " British Isles  South-East Asia 27.2455  -45.5016 99.9927  False \n",
      " British Isles  Southern Europe 11.5632  -32.9756  56.102  False \n",
      " British Isles      Victoria    19.9352  -32.7739 72.6444  False \n",
      " British Isles   Western Europe 57.2035  17.2735  97.1336   True \n",
      "  Eastern Asia        NSW       14.8365  -57.4527 87.1257  False \n",
      "  Eastern Asia   North America  15.4834  -34.4967 65.4635  False \n",
      "  Eastern Asia  Northern Europe -2.5318  -60.9035 55.8398  False \n",
      "  Eastern Asia    Scandinavia   11.9342  -44.8492 68.7177  False \n",
      "  Eastern Asia  South-East Asia 33.7415  -45.2071 112.6901 False \n",
      "  Eastern Asia  Southern Europe 18.0592  -36.0189 72.1373  False \n",
      "  Eastern Asia      Victoria    26.4312  -34.5523 87.4147  False \n",
      "  Eastern Asia   Western Europe 63.6995  13.3493  114.0497  True \n",
      "      NSW        North America   0.6469  -61.1495 62.4434  False \n",
      "      NSW       Northern Europe -17.3683 -86.129  51.3924  False \n",
      "      NSW         Scandinavia   -2.9022   -70.32  64.5155  False \n",
      "      NSW       South-East Asia  18.905  -68.0068 105.8169 False \n",
      "      NSW       Southern Europe  3.2227  -61.9327 68.3781  False \n",
      "      NSW           Victoria    11.5947  -59.3967 82.5861  False \n",
      "      NSW        Western Europe  48.863  -13.2331 110.9592 False \n",
      " North America  Northern Europe -18.0152 -62.7402 26.7097  False \n",
      " North America    Scandinavia   -3.5492  -46.1806 39.0822  False \n",
      " North America  South-East Asia 18.2581  -51.211  87.7272  False \n",
      " North America  Southern Europe  2.5757  -36.3795  41.531  False \n",
      " North America      Victoria    10.9478  -37.1362 59.0317  False \n",
      " North America   Western Europe 48.2161  14.6271   81.805   True \n",
      "Northern Europe   Scandinavia   14.4661  -37.7515 66.6836  False \n",
      "Northern Europe South-East Asia 36.2733  -39.4577 112.0044 False \n",
      "Northern Europe Southern Europe  20.591  -28.6711 69.8531  False \n",
      "Northern Europe     Victoria     28.963  -27.7935 85.7195  False \n",
      "Northern Europe  Western Europe 66.2313  21.0931  111.3695  True \n",
      "  Scandinavia   South-East Asia 21.8073  -52.7065 96.3211  False \n",
      "  Scandinavia   Southern Europe  6.1249  -41.2445 53.4944  False \n",
      "  Scandinavia       Victoria    14.4969  -40.6249 69.6188  False \n",
      "  Scandinavia    Western Europe 51.7653   8.7006   94.83    True \n",
      "South-East Asia Southern Europe -15.6824 -88.1557  56.791  False \n",
      "South-East Asia     Victoria    -7.3103  -85.0724 70.4517  False \n",
      "South-East Asia  Western Europe  29.958  -39.7779 99.6938  False \n",
      "Southern Europe     Victoria     8.372   -43.9586 60.7026  False \n",
      "Southern Europe  Western Europe 45.6403   6.2113  85.0693   True \n",
      "    Victoria     Western Europe 37.2683  -11.2002 85.7368  False \n",
      "-----------------------------------------------------------------\n"
     ]
    }
   ],
   "source": [
    "mc = MultiComparison(q3b_df['profit_per_order'], q3b_df['Region'])\n",
    "mc_results = mc.tukeyhsd()\n",
    "print(mc_results)"
   ]
  },
  {
   "cell_type": "markdown",
   "metadata": {},
   "source": [
    "This is not super informative on its face...most of the significant results come from comparing less profitable regions to Western Europe, which is clearly our top performer.  Perhaps instead we should be doing a 1-sample t-test for each region and comparing to the population mean.  Let's create a function that can do the dirty work, then a for loop to test each region."
   ]
  },
  {
   "cell_type": "markdown",
   "metadata": {},
   "source": [
    "Let's reformulate our hypotheses slightly since we're really only interested in supply regions that operate at a lower profit margin than the mean:\n",
    "\n",
    "**H<sub>0</sub>: There is no difference in the average profit margin per order placed, regardless of the region from which the product was supplied.** <br>\n",
    "**H<sub>A</sub>: One or more supply regions generate an average profit margin per order placed below the mean average profit margin per order.** <br>\n",
    "**$\\alpha$: 0.05**"
   ]
  },
  {
   "cell_type": "code",
   "execution_count": 47,
   "metadata": {},
   "outputs": [],
   "source": [
    "def profit_1_samp(sample, mu, alpha):\n",
    "    x_bar = round(sample.mean(),2)\n",
    "    sigma = round(np.std(sample, ddof=1), 2)\n",
    "    n = len(sample)\n",
    "    df = n - 1\n",
    "    diff = round((x_bar - mu),2)\n",
    "    d = np.round(((diff) / sigma),2)\n",
    "    crit_t = stats.t.ppf(1-alpha, df)\n",
    "    print('The sample contains', n, 'observations')\n",
    "    print('The difference between sample mean and population mean is', diff)\n",
    "    if abs(d) < 0.2:\n",
    "        print(\"We observe a small effect size (Cohen's d):\", d)\n",
    "    elif 0.2 < abs(d) < 0.5:\n",
    "        print(\"We observe a medium effect size (Cohen's d):\", d)\n",
    "    else:\n",
    "        print(\"We observe a large effect size (Cohen's d):\", d)\n",
    "    print('----------------------------------------------------------------------------------')\n",
    "       \n",
    "\n",
    "    results = stats.ttest_1samp(a= sample, popmean= mu)\n",
    "    t = round(results[0],2)\n",
    "    p = round((results[1]/2), 4) #one-tailed p-value\n",
    "    print (\"The t-value for the sample is\", abs(t), \"and the p-value is\", p)\n",
    "    \n",
    "    if abs(t) > crit_t and p < alpha:\n",
    "        print('We reject the null hypothesis and find the results to be statistically significant, with a p-value of', p, 'which is <', alpha)\n",
    "        \n",
    "    else:\n",
    "        print('We fail to reject the null hypothesis with a p-value of', p, ',which is >', alpha)\n",
    "\n"
   ]
  },
  {
   "cell_type": "code",
   "execution_count": 48,
   "metadata": {},
   "outputs": [
    {
     "data": {
      "text/plain": [
       "['British Isles',\n",
       " 'Eastern Asia',\n",
       " 'NSW',\n",
       " 'North America',\n",
       " 'Northern Europe',\n",
       " 'Scandinavia',\n",
       " 'South-East Asia',\n",
       " 'Southern Europe',\n",
       " 'Victoria',\n",
       " 'Western Europe']"
      ]
     },
     "execution_count": 48,
     "metadata": {},
     "output_type": "execute_result"
    }
   ],
   "source": [
    "profit_regions = list(q3b_df['Region'].unique())\n",
    "profit_regions"
   ]
  },
  {
   "cell_type": "markdown",
   "metadata": {},
   "source": [
    "We have already demonstrated that Western Europe is vastly superior as a supply region in terms of profitability, so we can remove it from our list before testing."
   ]
  },
  {
   "cell_type": "code",
   "execution_count": 49,
   "metadata": {},
   "outputs": [
    {
     "data": {
      "text/plain": [
       "'Western Europe'"
      ]
     },
     "execution_count": 49,
     "metadata": {},
     "output_type": "execute_result"
    }
   ],
   "source": [
    "profit_regions.pop()"
   ]
  },
  {
   "cell_type": "code",
   "execution_count": 50,
   "metadata": {
    "scrolled": false
   },
   "outputs": [
    {
     "name": "stdout",
     "output_type": "stream",
     "text": [
      "Results for British Isles :\n",
      "\n",
      "The sample contains 220 observations\n",
      "The difference between sample mean and population mean is -16.34\n",
      "We observe a medium effect size (Cohen's d): -0.24\n",
      "----------------------------------------------------------------------------------\n",
      "The t-value for the sample is 3.52 and the p-value is 0.0003\n",
      "We reject the null hypothesis and find the results to be statistically significant, with a p-value of 0.0003 which is < 0.05\n",
      "\n",
      "\n",
      "Results for Eastern Asia :\n",
      "\n",
      "The sample contains 114 observations\n",
      "The difference between sample mean and population mean is -22.84\n",
      "We observe a large effect size (Cohen's d): -0.55\n",
      "----------------------------------------------------------------------------------\n",
      "The t-value for the sample is 5.92 and the p-value is 0.0\n",
      "We reject the null hypothesis and find the results to be statistically significant, with a p-value of 0.0 which is < 0.05\n",
      "\n",
      "\n",
      "Results for NSW :\n",
      "\n",
      "The sample contains 68 observations\n",
      "The difference between sample mean and population mean is -8.0\n",
      "We observe a small effect size (Cohen's d): -0.08\n",
      "----------------------------------------------------------------------------------\n",
      "The t-value for the sample is 0.65 and the p-value is 0.2587\n",
      "We fail to reject the null hypothesis with a p-value of 0.2587 ,which is > 0.05\n",
      "\n",
      "\n",
      "Results for North America :\n",
      "\n",
      "The sample contains 408 observations\n",
      "The difference between sample mean and population mean is -7.35\n",
      "We observe a small effect size (Cohen's d): -0.08\n",
      "----------------------------------------------------------------------------------\n",
      "The t-value for the sample is 1.62 and the p-value is 0.0535\n",
      "We fail to reject the null hypothesis with a p-value of 0.0535 ,which is > 0.05\n",
      "\n",
      "\n",
      "Results for Northern Europe :\n",
      "\n",
      "The sample contains 153 observations\n",
      "The difference between sample mean and population mean is -25.37\n",
      "We observe a large effect size (Cohen's d): -0.72\n",
      "----------------------------------------------------------------------------------\n",
      "The t-value for the sample is 8.89 and the p-value is 0.0\n",
      "We reject the null hypothesis and find the results to be statistically significant, with a p-value of 0.0 which is < 0.05\n",
      "\n",
      "\n",
      "Results for Scandinavia :\n",
      "\n",
      "The sample contains 175 observations\n",
      "The difference between sample mean and population mean is -10.9\n",
      "We observe a small effect size (Cohen's d): -0.18\n",
      "----------------------------------------------------------------------------------\n",
      "The t-value for the sample is 2.37 and the p-value is 0.0095\n",
      "We reject the null hypothesis and find the results to be statistically significant, with a p-value of 0.0095 which is < 0.05\n",
      "\n",
      "\n",
      "Results for South-East Asia :\n",
      "\n",
      "The sample contains 52 observations\n",
      "The difference between sample mean and population mean is 10.9\n",
      "We observe a small effect size (Cohen's d): 0.11\n",
      "----------------------------------------------------------------------------------\n",
      "The t-value for the sample is 0.79 and the p-value is 0.2167\n",
      "We fail to reject the null hypothesis with a p-value of 0.2167 ,which is > 0.05\n",
      "\n",
      "\n",
      "Results for Southern Europe :\n",
      "\n",
      "The sample contains 229 observations\n",
      "The difference between sample mean and population mean is -4.78\n",
      "We observe a small effect size (Cohen's d): -0.06\n",
      "----------------------------------------------------------------------------------\n",
      "The t-value for the sample is 0.97 and the p-value is 0.1662\n",
      "We fail to reject the null hypothesis with a p-value of 0.1662 ,which is > 0.05\n",
      "\n",
      "\n",
      "Results for Victoria :\n",
      "\n",
      "The sample contains 126 observations\n",
      "The difference between sample mean and population mean is 3.59\n",
      "We observe a small effect size (Cohen's d): 0.03\n",
      "----------------------------------------------------------------------------------\n",
      "The t-value for the sample is 0.36 and the p-value is 0.3586\n",
      "We fail to reject the null hypothesis with a p-value of 0.3586 ,which is > 0.05\n",
      "\n",
      "\n"
     ]
    }
   ],
   "source": [
    "for region in profit_regions:\n",
    "    alpha = 0.05\n",
    "    mu = q3b_df['profit_per_order'].mean()\n",
    "    sample = q3b_df[q3b_df['Region'] == region]['profit_per_order']\n",
    "    print('Results for', region,':\\n')\n",
    "    profit_1_samp(sample, mu, alpha)   \n",
    "    print('\\n')\n",
    "\n"
   ]
  },
  {
   "cell_type": "markdown",
   "metadata": {},
   "source": [
    "## Q3 results:"
   ]
  },
  {
   "cell_type": "markdown",
   "metadata": {},
   "source": [
    "Very interesting...the above suggests that we can *reject the null hypothesis and that we find statistically significant differences for the following supplier regions:*\n",
    "\n",
    "- **British Isles**\n",
    "- **Eastern Asia**\n",
    "- **Nothern Europe**\n",
    "- **Scandinavia** (note for this one that the effect size is small, so we may want to consider further testing before reaching any conclusions)"
   ]
  },
  {
   "cell_type": "markdown",
   "metadata": {},
   "source": [
    "*Next steps?*  \n",
    "\n",
    "1. Well, a major shake-up could be in store for our supply chain.  We should explore whether we can replace those same products using suppliers from our more profitable regions.  If not, perhaps we should discontinue some of those products so that we can tighten up our supply chain and focus on the products that come from the more profitable regions. \n",
    "<br>\n",
    "\n",
    "2. Further testing could also incorporate the freight costs, as those may further weigh down profitability (depending on who the responsible party is for the freight - customer or Northwind, or some combination of both depending on Service Level Agreements).  Considering that in some cases we are shipping these across the world, it would be an important consideration if Northwind is responsible for any portion of it.  I suspect that having a warehouse in Western Europe and using Western European shippers would drastically improve on our current performance."
   ]
  },
  {
   "cell_type": "markdown",
   "metadata": {},
   "source": [
    "# Q4: When a customer places an order, are the higher-priced products ordered in higher quantities than the lower-priced products?\n",
    "\n",
    "\n",
    "The reason I thought to ask this came from stepping back and thinking about the unique value that Northwind Traders offers in the marketplace, it's as a purveyor of niche items, regional delicacies, etc. that can't be easily obtained by its customer base.  I expect demand to be relatively price-inelastic as a result...people want these particular products and they're willing to pay to have them shipped across the world, so it seems like they'd probably gravitate towards the high-end products and away from more common \"novelty\" items (going back to the discontinued products, a quick glance at that list confirms this rationale).  \n",
    "\n",
    "**H<sub>0</sub>: Unit price does not have an effect on quantity ordered (on a per order basis)** <br>\n",
    "**H<sub>A</sub>: Higher unit prices result in higher quantities ordered (on a per order basis)** <br>\n",
    "**$\\alpha$: 0.05** <br>"
   ]
  },
  {
   "cell_type": "code",
   "execution_count": 51,
   "metadata": {},
   "outputs": [
    {
     "name": "stdout",
     "output_type": "stream",
     "text": [
      "2019-03-26 20:56:40,781 INFO sqlalchemy.engine.base.Engine SELECT od.OrderId, p.ProductName, p.UnitPrice, SUM(od.Quantity) as tot_quant, c.CategoryName FROM OrderDetail od\n",
      "        LEFT JOIN Product p ON p.Id = od.ProductId\n",
      "        LEFT JOIN Category c ON c.ID = p.CategoryId\n",
      "        GROUP BY od.OrderId\n",
      "2019-03-26 20:56:40,782 INFO sqlalchemy.engine.base.Engine ()\n"
     ]
    }
   ],
   "source": [
    "q4 = '''SELECT od.OrderId, p.ProductName, p.UnitPrice, SUM(od.Quantity) as tot_quant, c.CategoryName FROM OrderDetail od\n",
    "        LEFT JOIN Product p ON p.Id = od.ProductId\n",
    "        LEFT JOIN Category c ON c.ID = p.CategoryId\n",
    "        GROUP BY od.OrderId'''\n",
    "q4_df = pd.read_sql_query(q4, engine)"
   ]
  },
  {
   "cell_type": "code",
   "execution_count": 52,
   "metadata": {},
   "outputs": [
    {
     "data": {
      "text/html": [
       "<div>\n",
       "<style scoped>\n",
       "    .dataframe tbody tr th:only-of-type {\n",
       "        vertical-align: middle;\n",
       "    }\n",
       "\n",
       "    .dataframe tbody tr th {\n",
       "        vertical-align: top;\n",
       "    }\n",
       "\n",
       "    .dataframe thead th {\n",
       "        text-align: right;\n",
       "    }\n",
       "</style>\n",
       "<table border=\"1\" class=\"dataframe\">\n",
       "  <thead>\n",
       "    <tr style=\"text-align: right;\">\n",
       "      <th></th>\n",
       "      <th>OrderId</th>\n",
       "      <th>ProductName</th>\n",
       "      <th>UnitPrice</th>\n",
       "      <th>tot_quant</th>\n",
       "      <th>CategoryName</th>\n",
       "    </tr>\n",
       "  </thead>\n",
       "  <tbody>\n",
       "    <tr>\n",
       "      <th>0</th>\n",
       "      <td>10248</td>\n",
       "      <td>Mozzarella di Giovanni</td>\n",
       "      <td>34.80</td>\n",
       "      <td>27</td>\n",
       "      <td>Dairy Products</td>\n",
       "    </tr>\n",
       "    <tr>\n",
       "      <th>1</th>\n",
       "      <td>10249</td>\n",
       "      <td>Manjimup Dried Apples</td>\n",
       "      <td>53.00</td>\n",
       "      <td>49</td>\n",
       "      <td>Produce</td>\n",
       "    </tr>\n",
       "    <tr>\n",
       "      <th>2</th>\n",
       "      <td>10250</td>\n",
       "      <td>Louisiana Fiery Hot Pepper Sauce</td>\n",
       "      <td>21.05</td>\n",
       "      <td>60</td>\n",
       "      <td>Condiments</td>\n",
       "    </tr>\n",
       "    <tr>\n",
       "      <th>3</th>\n",
       "      <td>10251</td>\n",
       "      <td>Louisiana Fiery Hot Pepper Sauce</td>\n",
       "      <td>21.05</td>\n",
       "      <td>41</td>\n",
       "      <td>Condiments</td>\n",
       "    </tr>\n",
       "    <tr>\n",
       "      <th>4</th>\n",
       "      <td>10252</td>\n",
       "      <td>Camembert Pierrot</td>\n",
       "      <td>34.00</td>\n",
       "      <td>105</td>\n",
       "      <td>Dairy Products</td>\n",
       "    </tr>\n",
       "  </tbody>\n",
       "</table>\n",
       "</div>"
      ],
      "text/plain": [
       "   OrderId                       ProductName  UnitPrice  tot_quant  \\\n",
       "0    10248            Mozzarella di Giovanni      34.80         27   \n",
       "1    10249             Manjimup Dried Apples      53.00         49   \n",
       "2    10250  Louisiana Fiery Hot Pepper Sauce      21.05         60   \n",
       "3    10251  Louisiana Fiery Hot Pepper Sauce      21.05         41   \n",
       "4    10252                 Camembert Pierrot      34.00        105   \n",
       "\n",
       "     CategoryName  \n",
       "0  Dairy Products  \n",
       "1         Produce  \n",
       "2      Condiments  \n",
       "3      Condiments  \n",
       "4  Dairy Products  "
      ]
     },
     "execution_count": 52,
     "metadata": {},
     "output_type": "execute_result"
    }
   ],
   "source": [
    "q4_df.head()"
   ]
  },
  {
   "cell_type": "code",
   "execution_count": 53,
   "metadata": {},
   "outputs": [
    {
     "data": {
      "text/plain": [
       "(830, 5)"
      ]
     },
     "execution_count": 53,
     "metadata": {},
     "output_type": "execute_result"
    }
   ],
   "source": [
    "q4_df.shape"
   ]
  },
  {
   "cell_type": "code",
   "execution_count": 54,
   "metadata": {},
   "outputs": [
    {
     "data": {
      "text/plain": [
       "19.225"
      ]
     },
     "execution_count": 54,
     "metadata": {},
     "output_type": "execute_result"
    }
   ],
   "source": [
    "q4_df.UnitPrice.median()"
   ]
  },
  {
   "cell_type": "markdown",
   "metadata": {},
   "source": [
    "I decided to subset the data using the median UnitPrice to ensure balanced samples.  We could certainly do further testing in the future using different parameters, as the sample sizes don't have to be equal."
   ]
  },
  {
   "cell_type": "code",
   "execution_count": 55,
   "metadata": {},
   "outputs": [],
   "source": [
    "expensive = q4_df[q4_df['UnitPrice'] > 19.225]\n",
    "cheap = q4_df[q4_df['UnitPrice'] < 19.225]"
   ]
  },
  {
   "cell_type": "code",
   "execution_count": 56,
   "metadata": {},
   "outputs": [
    {
     "name": "stdout",
     "output_type": "stream",
     "text": [
      "(415, 5)\n",
      "(415, 5)\n"
     ]
    }
   ],
   "source": [
    "print(expensive.shape)\n",
    "print(cheap.shape)"
   ]
  },
  {
   "cell_type": "code",
   "execution_count": 57,
   "metadata": {},
   "outputs": [
    {
     "data": {
      "image/png": "[encoded data removed]",
      "text/plain": [
       "<Figure size 864x720 with 1 Axes>"
      ]
     },
     "metadata": {
      "needs_background": "light"
     },
     "output_type": "display_data"
    }
   ],
   "source": [
    "plt.figure(figsize=(12,10))\n",
    "plt.hist(cheap['tot_quant'], bins=20, rwidth=0.7, color ='steelblue', label ='cheap')\n",
    "plt.hist(expensive['tot_quant'], bins=20, rwidth=0.7, color ='darkolivegreen', label = 'expensive')\n",
    "plt.title('Quantity Ordered by Price Category')\n",
    "plt.xlabel('Quantity Ordered')\n",
    "plt.ylabel('Frequency')\n",
    "plt.legend()\n",
    "plt.show();"
   ]
  },
  {
   "cell_type": "code",
   "execution_count": 58,
   "metadata": {},
   "outputs": [
    {
     "name": "stdout",
     "output_type": "stream",
     "text": [
      "T-statistic: 1.928546825918386, Two-tailed p-value: 0.054128722342161796\n",
      "One tailed p-value: 0.027064361171080898\n"
     ]
    }
   ],
   "source": [
    "t, p = stats.ttest_ind(expensive['tot_quant'], cheap['tot_quant'])\n",
    "print('T-statistic: {}, Two-tailed p-value: {}'.format(t,p))# this is 2-tailed by default\n",
    "print('One tailed p-value: {}'.format(p/2))  #to give us our 1-tailed p-value"
   ]
  },
  {
   "cell_type": "markdown",
   "metadata": {},
   "source": [
    "## Q4 results:"
   ]
  },
  {
   "cell_type": "markdown",
   "metadata": {},
   "source": [
    "With this p-value, we can ***reject the null hypothesis and conclude that there IS a statistically significant difference between \"expensive\" vs. \"cheap\" products in terms of quantity ordered (on a per order basis).***  "
   ]
  },
  {
   "cell_type": "markdown",
   "metadata": {},
   "source": [
    "My advice to Northwind is to focus exclusively on the higher-priced products (i.e. those with retail prices above $19.23).  Combined with the earlier advice to move away from some of our less profitable suppliers, we may be able to pare down the product line significantly with this approach.  \n",
    "\n",
    "We should also conduct some further testing to determine if the median price point is actually the ideal threshold."
   ]
  },
  {
   "cell_type": "markdown",
   "metadata": {},
   "source": [
    "# General Conclusions and Recommendations:"
   ]
  },
  {
   "cell_type": "markdown",
   "metadata": {},
   "source": [
    "- Offer discounts to drive sales and increase revenue, but offering ANY discount is sufficient.  To maximize profitability, offer discounts at the lowest standard level of 5% only.\n",
    "\n",
    "- Sales representatives can remain in their current office locations, half in North America and half in the British Isles.  \n",
    "\n",
    "- Consider a tighter focus on where we source from and what we sell.  \n",
    "    - We are deriving considerably lower profit margins from certain suppliers/regions.\n",
    "    - Customers are buying high-end, high-priced items in bulk more often.\n",
    "\n",
    "- While I don't have a specific hypothesis test to justify it immediately, I think we should continue to investigate the merits of relocating our base of operations to Western Europe.  The majority of our customers are close to that area, we make the most profit when sourcing products from Western European suppliers...in general it seems like this is where the opportunities can be maximized for our particular market.\n",
    "\n",
    "As it stands, our value proposition is being able to offer products in the marketplace that aren't easily obtained otherwise.  Consumer demand is not driven by price for these items; they'll pay whatever it costs.  As we consider expanding into new product offerings, this insight should be a key consideration.  Likewise, we should set up a meeting with marketing and discuss a potential rebrand.  This is outside of my purview as a data scientist, but I think changing the name to something that will attract a \"big-spender\" demographic that is more likely to seek out expensive and obscure food items might be a worthwhile discussion.  Do we want to be a company that sells quirky regional food products?  Or one that offers \"luxurious\" products fit for royalty but accessible to anyone willing to pay for high quality goods?  A few suggestions: \n",
    ">- Northwind Fine Foods Inc. \n",
    ">- Northwind Gourmet Retailers\n",
    ">- Northwind Epicurean Traders \n",
    ">- Northwind Delicacies & Co.\n",
    "\n",
    "In my humble opinion, any of these would be significant improvement on the vanilla \"Northwind Traders.\"  It would also give our company a more distinct identity and direction, which would undoubtedly help our sales and marketing teams pitch our company."
   ]
  }
 ],
 "metadata": {
  "kernelspec": {
   "display_name": "learn-env",
   "language": "python",
   "name": "learn-env"
  },
  "language_info": {
   "codemirror_mode": {
    "name": "ipython",
    "version": 3
   },
   "file_extension": ".py",
   "mimetype": "text/x-python",
   "name": "python",
   "nbconvert_exporter": "python",
   "pygments_lexer": "ipython3",
   "version": "3.6.6"
  }
 },
 "nbformat": 4,
 "nbformat_minor": 2
}
